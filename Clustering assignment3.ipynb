{
 "cells": [
  {
   "cell_type": "markdown",
   "id": "f4398e15-1340-4a62-8f58-0ece7060d6ac",
   "metadata": {},
   "source": [
    "# Question - 1\n",
    "ans - "
   ]
  },
  {
   "cell_type": "markdown",
   "id": "4640b699-528d-43c2-aff1-d4f3fa55fc6a",
   "metadata": {},
   "source": [
    "Clustering is a fundamental unsupervised learning technique that involves grouping similar objects or data points into clusters, with the objective of maximizing intra-cluster similarity and minimizing inter-cluster similarity. In essence, clustering aims to partition a dataset into subsets (clusters) such that data points within the same cluster are more similar to each other than to those in other clusters.\n",
    "\n",
    "# The basic concept of clustering can be illustrated as follows:\n",
    "\n",
    "1. Similarity Measurement: Clustering algorithms typically use a similarity or distance metric to quantify the similarity between data points. Common distance metrics include Euclidean distance, Manhattan distance, cosine similarity, and Jaccard similarity, among others.\n",
    "\n",
    "2. Grouping into Clusters: Given a dataset, clustering algorithms partition the data into clusters based on the computed similarities. Depending on the algorithm and parameters chosen, clusters can vary in size, shape, and density.\n",
    "\n",
    "3. Unsupervised Learning: Unlike supervised learning, clustering is an unsupervised learning task, meaning that it does not rely on labeled data. Instead, clustering algorithms automatically identify patterns and structure in the data without explicit guidance.\n",
    "\n",
    "# Examples of applications where clustering is useful include:\n",
    "\n",
    "1. Customer Segmentation: In marketing, clustering is used to segment customers into distinct groups based on their purchasing behavior, demographics, or preferences. This allows businesses to tailor marketing strategies and offerings to different customer segments.\n",
    "\n",
    "2. Image Segmentation: In computer vision, clustering is employed to segment images into regions with similar pixel values or features. This is useful for tasks such as object detection, image recognition, and medical image analysis.\n",
    "\n",
    "3. Anomaly Detection: Clustering can be used for anomaly detection by identifying data points that deviate significantly from the rest of the dataset. Outliers or anomalies often form singleton clusters or clusters with very few data points.\n",
    "\n",
    "4. Document Clustering: In natural language processing (NLP), clustering is applied to group similar documents or texts together. This is useful for tasks such as document organization, topic modeling, and sentiment analysis.\n",
    "\n",
    "5. Genomic Data Analysis: Clustering techniques are widely used in bioinformatics to analyze genomic data, such as gene expression profiles. Clustering helps identify patterns in gene expression data and can assist in identifying disease subtypes, biomarkers, and drug targets.\n",
    "\n",
    "6. Recommendation Systems: In e-commerce and content recommendation systems, clustering is utilized to group similar products or content items together. This enables personalized recommendations based on user preferences and past behavior."
   ]
  },
  {
   "cell_type": "code",
   "execution_count": null,
   "id": "9013d92d-be00-4855-a8eb-f2cbc27dca16",
   "metadata": {},
   "outputs": [],
   "source": []
  },
  {
   "cell_type": "code",
   "execution_count": null,
   "id": "9dfeb5cd-cb05-4056-8d80-4f02ee6e692e",
   "metadata": {},
   "outputs": [],
   "source": []
  },
  {
   "cell_type": "code",
   "execution_count": null,
   "id": "32409034-147d-47c9-ac95-ca8b11fdc5fe",
   "metadata": {},
   "outputs": [],
   "source": []
  },
  {
   "cell_type": "markdown",
   "id": "5ef028eb-4a2c-4f7e-98d9-4912520950b7",
   "metadata": {},
   "source": [
    "# Question - 2\n",
    "ans - "
   ]
  },
  {
   "cell_type": "markdown",
   "id": "69f2cfa9-7739-4ebc-ac83-c0575ea1bd17",
   "metadata": {},
   "source": [
    "DBSCAN (Density-Based Spatial Clustering of Applications with Noise) is a popular density-based clustering algorithm used for identifying clusters of varying shapes and sizes in a dataset. Unlike k-means and hierarchical clustering, which rely on distance-based or linkage-based criteria, DBSCAN defines clusters based on the density of data points in the feature space.\n",
    "\n",
    "\n",
    "DBSCAN differs from k-means and hierarchical clustering by its density-based approach to cluster identification, robustness to noise and outliers, automatic cluster detection, and flexibility in handling clusters of varying shapes and sizes. These characteristics make DBSCAN a powerful clustering algorithm, particularly for datasets with complex structures and unknown cluster counts. However, DBSCAN may require tuning of its parameters, such as the minimum number of points and the maximum distance (eps), to achieve optimal clustering results."
   ]
  },
  {
   "cell_type": "code",
   "execution_count": null,
   "id": "f3390e92-df5f-4144-862b-401971a8f112",
   "metadata": {},
   "outputs": [],
   "source": []
  },
  {
   "cell_type": "code",
   "execution_count": null,
   "id": "15b2fa20-0637-4ebb-b2d4-cc7f03630ed0",
   "metadata": {},
   "outputs": [],
   "source": []
  },
  {
   "cell_type": "code",
   "execution_count": null,
   "id": "edae47dd-7280-405e-b3d9-4a0879c96659",
   "metadata": {},
   "outputs": [],
   "source": []
  },
  {
   "cell_type": "markdown",
   "id": "a33eef7d-9556-4018-bb2f-1622dcf274af",
   "metadata": {},
   "source": [
    "# Question - 3\n",
    "ans - "
   ]
  },
  {
   "cell_type": "markdown",
   "id": "1a8620eb-67dc-4f21-a642-852e604d16c5",
   "metadata": {},
   "source": [
    "Determining the optimal values for the epsilon (eps) and minimum points parameters in DBSCAN clustering involves finding a balance between capturing meaningful clusters while avoiding overfitting or underfitting. Here are some approaches to determine these parameters:\n",
    "\n",
    "1. Visual Inspection:\n",
    "\n",
    "* Visualize the dataset and its spatial distribution to gain insights into the appropriate values for eps and minimum points.\n",
    "\n",
    "* Plot a scatter plot of the data points and observe the density and distribution of points. Look for regions of high density that could correspond to clusters.\n",
    "\n",
    "* Experiment with different values of eps and minimum points and visually inspect the resulting clusters to assess their quality and coherence.\n",
    "\n",
    "\n",
    "2. Elbow Method:\n",
    "\n",
    "* Use the elbow method to select an appropriate value for eps.\n",
    "\n",
    "* Plot a k-distance graph, where the k-distance of a point is the distance to its k-th nearest neighbor.\n",
    "\n",
    "* Identify the \"elbow\" or \"knee\" point in the graph, which corresponds to a significant increase in the distance. This point can be a good estimate for eps.\n",
    "\n",
    "3. K-nearest Neighbor Graph:\n",
    "\n",
    "* Construct a k-nearest neighbor (KNN) graph for the dataset, where each point is connected to its k nearest neighbors.\n",
    "\n",
    "* Analyze the distribution of distances between points in the graph and use it to guide the selection of eps. Look for a point in the distribution where the distances start to increase rapidly.\n",
    "\n",
    "* Choose eps to be slightly larger than the distance corresponding to this point.\n",
    "\n",
    "\n",
    "4. Silhouette Score:\n",
    "\n",
    "* Calculate the silhouette score for different combinations of eps and minimum points.\n",
    "\n",
    "* The silhouette score measures the cohesion and separation of clusters, with higher scores indicating better-defined clusters.\n",
    "\n",
    "* Choose the combination of eps and minimum points that maximizes the silhouette score, as it represents the optimal balance between cluster quality and compactness."
   ]
  },
  {
   "cell_type": "code",
   "execution_count": null,
   "id": "e1004e64-f9e5-475e-9aa5-49ce8de86ee2",
   "metadata": {},
   "outputs": [],
   "source": []
  },
  {
   "cell_type": "code",
   "execution_count": null,
   "id": "1c1e4c7c-1d02-4680-b724-aadf74df6f19",
   "metadata": {},
   "outputs": [],
   "source": []
  },
  {
   "cell_type": "code",
   "execution_count": null,
   "id": "3d733719-5bf9-4deb-96e9-2d4094f8df3d",
   "metadata": {},
   "outputs": [],
   "source": []
  },
  {
   "cell_type": "markdown",
   "id": "1b545ee3-587e-48a3-b547-a31662c5c705",
   "metadata": {},
   "source": [
    "# Question - 4\n",
    "ans - "
   ]
  },
  {
   "cell_type": "markdown",
   "id": "f57f51fe-a833-4d0d-a884-c1d62859b4d4",
   "metadata": {},
   "source": [
    "DBSCAN (Density-Based Spatial Clustering of Applications with Noise) clustering handles outliers in a dataset by explicitly identifying them as noise points that do not belong to any cluster. Here's how DBSCAN clustering handles outliers:\n",
    "\n",
    "# 1. Density-Based Clustering:\n",
    "\n",
    "* DBSCAN defines clusters based on the density of data points in the feature space. It identifies clusters as dense regions of data points separated by regions of lower density.\n",
    "\n",
    "* Data points that are located in regions of high density are considered core points, while points in regions of lower density are classified as border points.\n",
    "\n",
    "\n",
    "# 2. Core Points and Border Points:\n",
    "\n",
    "* Core points are data points that have at least a minimum number of neighboring points (specified by the \"minimum points\" parameter) within a certain distance (specified by the \"epsilon\" parameter).\n",
    "\n",
    "* Border points are data points that are reachable from a core point but do not have enough neighboring points to be considered core points themselves.\n",
    "\n",
    "\n",
    "# 3. Noise Points:\n",
    "\n",
    "* Data points that do not meet the criteria to be classified as core points or border points are labeled as noise points or outliers.\n",
    "\n",
    "* Noise points are typically located in regions of low density, far away from any core points or clusters.\n",
    "\n",
    "# 4. Clustering Process:\n",
    "\n",
    "* During the clustering process, DBSCAN identifies clusters by expanding around core points and merging neighboring core points and their border points into the same cluster.\n",
    "\n",
    "* Data points that are not reachable from any core points are considered outliers and remain unassigned to any cluster.\n",
    "\n",
    "\n",
    "# 5. Handling Outliers:\n",
    "\n",
    "* DBSCAN explicitly identifies outliers as noise points that do not belong to any cluster.\n",
    "\n",
    "* By design, DBSCAN is robust to outliers and noise in the dataset, as it does not force all data points to belong to a cluster. Instead, it allows for the presence of noise points and focuses on identifying dense regions of data points as clusters.\n",
    "\n",
    "\n",
    "# 6. Parameter Tuning:\n",
    "\n",
    "* The performance of DBSCAN in handling outliers can be influenced by the choice of parameters, particularly the \"epsilon\" and \"minimum points\" parameters.\n",
    "\n",
    "* Adjusting these parameters can affect the sensitivity of DBSCAN to noise and outliers, allowing for flexibility in the clustering process based on the characteristics of the dataset."
   ]
  },
  {
   "cell_type": "code",
   "execution_count": null,
   "id": "82a58562-73f8-4697-b4ae-363376db971a",
   "metadata": {},
   "outputs": [],
   "source": []
  },
  {
   "cell_type": "code",
   "execution_count": null,
   "id": "65e75563-7fa2-48b2-af44-08a275904661",
   "metadata": {},
   "outputs": [],
   "source": []
  },
  {
   "cell_type": "code",
   "execution_count": null,
   "id": "f085f023-df03-4178-93ab-6bf46c5304f9",
   "metadata": {},
   "outputs": [],
   "source": []
  },
  {
   "cell_type": "markdown",
   "id": "37f628fd-9e74-4e75-9087-68dcb9ed5597",
   "metadata": {},
   "source": [
    "# Question - 5\n",
    "ans - "
   ]
  },
  {
   "cell_type": "markdown",
   "id": "80ff1433-391e-4bc6-8776-a89a0a8835bd",
   "metadata": {},
   "source": [
    "DBSCAN (Density-Based Spatial Clustering of Applications with Noise) clustering and k-means clustering are two distinct clustering algorithms that differ in their approach, assumptions, and characteristics. Here's how they differ:\n",
    "\n",
    "# 1 Clustering Approach:\n",
    "\n",
    "* DBSCAN: DBSCAN is a density-based clustering algorithm that identifies clusters based on the density of data points in the feature space. It groups together data points that are closely packed and separates them from regions of lower density, effectively partitioning the dataset into clusters of varying shapes and sizes.\n",
    "\n",
    "* K-means: K-means is a centroid-based clustering algorithm that partitions the dataset into a predefined number of clusters (k) by iteratively assigning data points to the nearest cluster centroid and updating the centroids based on the mean of the data points assigned to each cluster.\n",
    "\n",
    "\n",
    "# 2 Cluster Shape and Size:\n",
    "\n",
    "* DBSCAN: DBSCAN can identify clusters of arbitrary shapes and sizes, including non-convex clusters and clusters with varying densities. It is particularly well-suited for datasets with irregular cluster structures and noise.\n",
    "\n",
    "* K-means: K-means tends to produce spherical or globular clusters due to its reliance on the mean centroid. It may struggle with datasets containing non-linear cluster boundaries or irregularly shaped clusters.\n",
    "\n",
    "\n",
    "# 3 Number of Clusters:\n",
    "\n",
    "* DBSCAN: DBSCAN does not require specifying the number of clusters beforehand. Instead, it automatically detects clusters based on the density of data points in the dataset, making it suitable for datasets with an unknown or variable number of clusters.\n",
    "\n",
    "* K-means: K-means requires specifying the number of clusters (k) before clustering. The choice of k can significantly impact the clustering results, and determining the optimal value of k may require domain knowledge or experimentation.\n",
    "\n",
    "\n",
    "# 4 Handling Outliers:\n",
    "\n",
    "* DBSCAN: DBSCAN is robust to noise and outliers because it explicitly identifies them as noise points that do not belong to any cluster. It effectively handles datasets with noisy or sparse regions by designating outliers as noise points.\n",
    "\n",
    "* K-means: K-means can be sensitive to outliers, as they can distort the centroids of clusters and affect the clustering results. Outliers may be assigned to the nearest cluster centroid, potentially leading to suboptimal cluster assignments.\n",
    "\n",
    "# 5 Parameter Sensitivity:\n",
    "\n",
    "* DBSCAN: DBSCAN's performance is influenced by two main parameters: epsilon (eps), which defines the maximum distance between two points to be considered neighbors, and minimum points, which specifies the minimum number of points required to form a dense region or core point.\n",
    "\n",
    "* K-means: K-means is sensitive to the choice of initial cluster centroids and may converge to different solutions depending on the initialization. It may require multiple runs with different initializations to obtain stable results."
   ]
  },
  {
   "cell_type": "code",
   "execution_count": null,
   "id": "09fc9714-526f-48d3-b8db-e2736e2cbdc9",
   "metadata": {},
   "outputs": [],
   "source": []
  },
  {
   "cell_type": "code",
   "execution_count": null,
   "id": "d3df7617-4f17-489a-aca9-c1c2c013c357",
   "metadata": {},
   "outputs": [],
   "source": []
  },
  {
   "cell_type": "code",
   "execution_count": null,
   "id": "78170e0d-bd46-4bb2-8ff8-c5b9888dd038",
   "metadata": {},
   "outputs": [],
   "source": []
  },
  {
   "cell_type": "markdown",
   "id": "e8e6041f-1dd2-4f19-9275-742bc79f2056",
   "metadata": {},
   "source": [
    "# Question - 6\n",
    "ans - "
   ]
  },
  {
   "cell_type": "markdown",
   "id": "76c6b314-a7e8-414a-99ee-be1cff7f64e3",
   "metadata": {},
   "source": [
    " Yes, DBSCAN clustering can be applied to datasets with high-dimensional feature spaces, but there are some potential challenges to consider:\n",
    "\n",
    "# 1 Curse of Dimensionality: \n",
    "\n",
    "In high-dimensional spaces, the density of data points may become more uniform, making it difficult to identify regions of high density and effectively distinguish clusters. This phenomenon, known as the curse of dimensionality, can impact the performance of DBSCAN, as it relies on density-based criteria for clustering.\n",
    "\n",
    "# 2 Increased Computational Complexity: \n",
    "As the dimensionality of the feature space increases, the computational complexity of DBSCAN also increases. Calculating distances between data points becomes more computationally intensive in high-dimensional spaces, which can lead to longer processing times and higher memory requirements.\n",
    "\n",
    "# 3 Parameter Sensitivity: \n",
    "The performance of DBSCAN may be sensitive to the choice of parameters, such as the epsilon (eps) and minimum points, especially in high-dimensional spaces. Selecting appropriate parameter values becomes more challenging as the dimensionality increases, and tuning these parameters may require careful experimentation and validation.\n",
    "\n",
    "# 4 Sparse Data: \n",
    "In high-dimensional spaces, datasets may become increasingly sparse, with many dimensions having little or no information. This sparsity can affect the estimation of local density and connectivity between data points, potentially leading to suboptimal clustering results.\n",
    "\n",
    "# 5 Curse of Sparsity: \n",
    "High-dimensional datasets often suffer from the curse of sparsity, where the majority of data points are located near the boundaries of the feature space. This can result in clusters being spread out across the space, making it harder for DBSCAN to identify meaningful clusters based on local density.\n",
    "\n",
    "# 6 Feature Selection and Dimensionality Reduction: \n",
    "Prior to applying DBSCAN, it may be beneficial to perform feature selection or dimensionality reduction techniques to reduce the dimensionality of the dataset and mitigate the curse of dimensionality. These techniques can help identify the most relevant features and improve the performance of DBSCAN clustering in high-dimensional spaces."
   ]
  },
  {
   "cell_type": "code",
   "execution_count": null,
   "id": "7602c396-8760-4700-8570-0ed748cf8927",
   "metadata": {},
   "outputs": [],
   "source": []
  },
  {
   "cell_type": "code",
   "execution_count": null,
   "id": "f05be5b9-6224-4e40-ad95-44dd35408780",
   "metadata": {},
   "outputs": [],
   "source": []
  },
  {
   "cell_type": "markdown",
   "id": "bffe5233-e0e0-4b8c-9be0-33359ddeb71e",
   "metadata": {},
   "source": [
    "# Question - 7\n",
    "ans - "
   ]
  },
  {
   "cell_type": "markdown",
   "id": "b8ef328f-0787-409d-8337-be0911b0891a",
   "metadata": {},
   "source": [
    "DBSCAN (Density-Based Spatial Clustering of Applications with Noise) clustering is well-suited for handling clusters with varying densities due to its density-based approach to cluster identification. Here's how DBSCAN handles clusters with varying densities:\n",
    "\n",
    "# 1 Core Points and Border Points:\n",
    "\n",
    "* DBSCAN categorizes each data point in the dataset as either a core point, a border point, or a noise point (outlier) based on its local density.\n",
    "\n",
    "* Core points are data points that have at least a minimum number of neighboring points (specified by the \"minimum points\" parameter) within a certain distance (specified by the \"epsilon\" parameter).\n",
    "\n",
    "* Border points are data points that are reachable from a core point but do not have enough neighboring points to be considered core points themselves.\n",
    "\n",
    "* Noise points are data points that do not meet the criteria to be classified as core points or border points.\n",
    "\n",
    "\n",
    "# 2 Cluster Formation:\n",
    "\n",
    "* DBSCAN identifies clusters by expanding around core points and merging neighboring core points and their border points into the same cluster.\n",
    "\n",
    "* As core points connect to each other, clusters of varying densities emerge naturally. Dense regions of data points will form large, well-defined clusters, while regions with lower density will form smaller clusters or remain unclustered.\n",
    "\n",
    "# 3 Parameter Sensitivity:\n",
    "\n",
    "* The performance of DBSCAN in handling clusters with varying densities can be influenced by the choice of parameters, particularly the \"epsilon\" and \"minimum points\" parameters.\n",
    "\n",
    "* The epsilon parameter defines the maximum distance between two points to be considered neighbors, while the minimum points parameter specifies the minimum number of points required to form a dense region or core point.\n",
    "\n",
    "* Adjusting these parameters can affect the sensitivity of DBSCAN to variations in density and the granularity of the resulting clusters.\n",
    "\n",
    "# 4 Flexibility in Cluster Shape and Size:\n",
    "\n",
    "* DBSCAN can identify clusters of arbitrary shapes and sizes, including clusters with varying densities. This flexibility allows DBSCAN to adapt to the inherent structure of the data and capture clusters of different densities without imposing strict assumptions about cluster shape or size."
   ]
  },
  {
   "cell_type": "code",
   "execution_count": null,
   "id": "1e961e7b-68c3-4ce6-8558-eddd8945c042",
   "metadata": {},
   "outputs": [],
   "source": []
  },
  {
   "cell_type": "code",
   "execution_count": null,
   "id": "66f8a487-f5c1-4657-906d-336ff33a4433",
   "metadata": {},
   "outputs": [],
   "source": []
  },
  {
   "cell_type": "code",
   "execution_count": null,
   "id": "e9bc0e9b-9372-4267-b7d2-44f29034e0b3",
   "metadata": {},
   "outputs": [],
   "source": []
  },
  {
   "cell_type": "markdown",
   "id": "bfa9c358-53ec-4830-8739-bc9dc38662b6",
   "metadata": {},
   "source": [
    "# Question - 8\n",
    "ans - "
   ]
  },
  {
   "cell_type": "markdown",
   "id": "132921a4-921f-4d3e-b748-89b923e03380",
   "metadata": {},
   "source": [
    "# 1 Silhouette Score:\n",
    "\n",
    "* The silhouette score measures the cohesion and separation of clusters. It assigns a score to each data point based on its proximity to other points in the same cluster (cohesion) compared to points in neighboring clusters (separation). The overall silhouette score is the average of the silhouette scores of all data points.\n",
    "\n",
    "* Higher silhouette scores indicate better-defined clusters, with values ranging from -1 to 1. A score close to 1 indicates well-separated clusters, while a score close to -1 indicates overlapping clusters.\n",
    "\n",
    "\n",
    "# 2 Davies–Bouldin Index:\n",
    "\n",
    "* The Davies–Bouldin index quantifies the average similarity between clusters and evaluates the compactness and separation of clusters. It measures the ratio of the average distance between data points within clusters to the distance between cluster centroids.\n",
    "\n",
    "* Lower Davies–Bouldin index values indicate better clustering performance, with values closer to 0 indicating well-separated and compact clusters.\n",
    "\n",
    "\n",
    "# 3 Calinski-Harabasz Index:\n",
    "\n",
    "* The Calinski-Harabasz index, also known as the variance ratio criterion, evaluates the ratio of between-cluster dispersion to within-cluster dispersion. It measures the compactness and separation of clusters by assessing the dispersion of data points around cluster centroids.\n",
    "\n",
    "* Higher Calinski-Harabasz index values indicate better clustering performance, with larger values corresponding to more compact and well-separated clusters.\n",
    "\n",
    "# 4 Adjusted Rand Index (ARI):\n",
    "\n",
    "* The Adjusted Rand Index assesses the similarity between the clustering results and a reference clustering (ground truth) if available. It measures the proportion of data point pairs that are either in the same cluster or in different clusters in both the predicted and reference clusterings.\n",
    "\n",
    "* ARI values range from -1 to 1, with higher values indicating better agreement between the predicted and reference clusterings.\n",
    "\n",
    "\n",
    "# 5 Homogeneity, Completeness, and V-measure:\n",
    "\n",
    "* Homogeneity measures the extent to which clusters contain only data points from a single class or category.\n",
    "\n",
    "* Completeness measures the extent to which all data points of a given class or category are assigned to the same cluster.\n",
    "\n",
    "* The V-measure is the harmonic mean of homogeneity and completeness, providing a balanced assessment of clustering quality.\n",
    "\n",
    "* Higher values of homogeneity, completeness, and V-measure indicate better clustering performance."
   ]
  },
  {
   "cell_type": "code",
   "execution_count": null,
   "id": "ffd873ed-a55e-403f-8ed6-b8d55e457e0c",
   "metadata": {},
   "outputs": [],
   "source": []
  },
  {
   "cell_type": "code",
   "execution_count": null,
   "id": "7b61718c-ef4d-4548-b0c5-e7044a71cc81",
   "metadata": {},
   "outputs": [],
   "source": []
  },
  {
   "cell_type": "code",
   "execution_count": null,
   "id": "4b49b061-c3d3-47c2-b6c4-88ef7fdf3667",
   "metadata": {},
   "outputs": [],
   "source": []
  },
  {
   "cell_type": "markdown",
   "id": "7463e5dc-2b77-48c2-b6d1-eec9ff3d06b9",
   "metadata": {},
   "source": [
    "# Question - 9\n",
    "an - "
   ]
  },
  {
   "cell_type": "markdown",
   "id": "a68b5685-ef2d-47b4-93e7-c27f2533dea4",
   "metadata": {},
   "source": [
    "DBSCAN (Density-Based Spatial Clustering of Applications with Noise) clustering is primarily an unsupervised learning algorithm designed to identify clusters based on the density of data points in the feature space. However, it can be adapted for use in semi-supervised learning tasks with some modifications and extensions. Here's how DBSCAN clustering can be used for semi-supervised learning:\n",
    "\n",
    "1. Initial Labeling: \n",
    "\n",
    "In a semi-supervised setting, DBSCAN can be used to initially label the data points based on their density-based clustering structure. Data points that are assigned to dense clusters can be considered more confidently labeled, while points in sparse regions or noise points may be labeled with lower confidence.\n",
    "\n",
    "2. Seed Points: \n",
    "\n",
    "Semi-supervised DBSCAN can utilize labeled seed points or anchor points to guide the clustering process. These seed points can serve as starting points for cluster expansion, helping to propagate labels to neighboring points within the same cluster.\n",
    "\n",
    "3. Constraint-based Clustering: \n",
    "\n",
    "Constraints can be incorporated into the DBSCAN algorithm to enforce certain labeling constraints based on prior knowledge or domain expertise. For example, labeled points can be constrained to belong to specific clusters or to be separated from noise points during the clustering process.\n",
    "\n",
    "4. Iterative Refinement: \n",
    "\n",
    "After the initial clustering step, semi-supervised DBSCAN can iteratively refine the clustering results by incorporating additional labeled information. This iterative process can involve reassigning cluster labels based on the majority label of neighboring points or adjusting the clustering parameters to better align with the labeled data.\n",
    "\n",
    "5. Evaluation and Feedback: \n",
    "\n",
    "The performance of semi-supervised DBSCAN can be evaluated based on the agreement between the predicted clusters and the provided labels. Feedback from domain experts or manual inspection can also be used to validate and refine the clustering results."
   ]
  },
  {
   "cell_type": "code",
   "execution_count": null,
   "id": "ba5e92bc-a94e-4420-8448-4c28fcd36a4e",
   "metadata": {},
   "outputs": [],
   "source": []
  },
  {
   "cell_type": "code",
   "execution_count": null,
   "id": "54c0a903-1e08-457f-a7bc-e71d3d134f69",
   "metadata": {},
   "outputs": [],
   "source": []
  },
  {
   "cell_type": "code",
   "execution_count": null,
   "id": "2ef3e6e5-3c73-4a8f-89eb-4af7880a6820",
   "metadata": {},
   "outputs": [],
   "source": []
  },
  {
   "cell_type": "markdown",
   "id": "e273a7de-dbad-4630-8c81-6913bf390974",
   "metadata": {},
   "source": [
    "# Question - 10\n",
    "ans - "
   ]
  },
  {
   "cell_type": "markdown",
   "id": "ba7532e4-60e7-4201-9886-4aa8ff50768f",
   "metadata": {},
   "source": [
    "DBSCAN clustering handles datasets with noise by explicitly identifying noise points as outliers and not assigning them to any cluster. The choice of parameters and preprocessing steps can influence DBSCAN's performance in handling noise and missing values, and it's important to carefully adjust these parameters and preprocess the data appropriately for optimal clustering results."
   ]
  },
  {
   "cell_type": "code",
   "execution_count": null,
   "id": "3d8d9a5f-8caf-4add-af1e-eb55fdef05ba",
   "metadata": {},
   "outputs": [],
   "source": []
  },
  {
   "cell_type": "code",
   "execution_count": null,
   "id": "d5f546e3-a83f-4355-9ebc-493a36e26b44",
   "metadata": {},
   "outputs": [],
   "source": []
  },
  {
   "cell_type": "markdown",
   "id": "944acb3e-ca35-46be-84db-c3de8e9d84e0",
   "metadata": {},
   "source": [
    "## Question - 11\n",
    "ans - "
   ]
  },
  {
   "cell_type": "code",
   "execution_count": 1,
   "id": "3da5fa04-e2ba-41b9-9d26-c2b8f4cf6de6",
   "metadata": {},
   "outputs": [],
   "source": [
    "import pandas as pd\n",
    "\n",
    "from sklearn.cluster import DBSCAN\n",
    "\n",
    "from sklearn.preprocessing import StandardScaler\n",
    "\n",
    "from warnings import filterwarnings\n",
    "filterwarnings('ignore')\n",
    "\n",
    "import matplotlib.pyplot as plt\n"
   ]
  },
  {
   "cell_type": "code",
   "execution_count": 2,
   "id": "ccb92daf-5cc0-4c4f-a688-cecd5e99926b",
   "metadata": {},
   "outputs": [
    {
     "data": {
      "text/html": [
       "<div>\n",
       "<style scoped>\n",
       "    .dataframe tbody tr th:only-of-type {\n",
       "        vertical-align: middle;\n",
       "    }\n",
       "\n",
       "    .dataframe tbody tr th {\n",
       "        vertical-align: top;\n",
       "    }\n",
       "\n",
       "    .dataframe thead th {\n",
       "        text-align: right;\n",
       "    }\n",
       "</style>\n",
       "<table border=\"1\" class=\"dataframe\">\n",
       "  <thead>\n",
       "    <tr style=\"text-align: right;\">\n",
       "      <th></th>\n",
       "      <th>CustomerID</th>\n",
       "      <th>Gender</th>\n",
       "      <th>Age</th>\n",
       "      <th>Annual Income (k$)</th>\n",
       "      <th>Spending Score (1-100)</th>\n",
       "    </tr>\n",
       "  </thead>\n",
       "  <tbody>\n",
       "    <tr>\n",
       "      <th>0</th>\n",
       "      <td>1</td>\n",
       "      <td>Male</td>\n",
       "      <td>19</td>\n",
       "      <td>15</td>\n",
       "      <td>39</td>\n",
       "    </tr>\n",
       "    <tr>\n",
       "      <th>1</th>\n",
       "      <td>2</td>\n",
       "      <td>Male</td>\n",
       "      <td>21</td>\n",
       "      <td>15</td>\n",
       "      <td>81</td>\n",
       "    </tr>\n",
       "    <tr>\n",
       "      <th>2</th>\n",
       "      <td>3</td>\n",
       "      <td>Female</td>\n",
       "      <td>20</td>\n",
       "      <td>16</td>\n",
       "      <td>6</td>\n",
       "    </tr>\n",
       "    <tr>\n",
       "      <th>3</th>\n",
       "      <td>4</td>\n",
       "      <td>Female</td>\n",
       "      <td>23</td>\n",
       "      <td>16</td>\n",
       "      <td>77</td>\n",
       "    </tr>\n",
       "    <tr>\n",
       "      <th>4</th>\n",
       "      <td>5</td>\n",
       "      <td>Female</td>\n",
       "      <td>31</td>\n",
       "      <td>17</td>\n",
       "      <td>40</td>\n",
       "    </tr>\n",
       "  </tbody>\n",
       "</table>\n",
       "</div>"
      ],
      "text/plain": [
       "   CustomerID  Gender  Age  Annual Income (k$)  Spending Score (1-100)\n",
       "0           1    Male   19                  15                      39\n",
       "1           2    Male   21                  15                      81\n",
       "2           3  Female   20                  16                       6\n",
       "3           4  Female   23                  16                      77\n",
       "4           5  Female   31                  17                      40"
      ]
     },
     "execution_count": 2,
     "metadata": {},
     "output_type": "execute_result"
    }
   ],
   "source": [
    "df = pd.read_csv('Mall_Customers.csv')\n",
    "\n",
    "df.head()"
   ]
  },
  {
   "cell_type": "code",
   "execution_count": 5,
   "id": "de7f5a4a-4c6a-4e9f-a005-b14bdebb208c",
   "metadata": {},
   "outputs": [
    {
     "data": {
      "text/html": [
       "<div>\n",
       "<style scoped>\n",
       "    .dataframe tbody tr th:only-of-type {\n",
       "        vertical-align: middle;\n",
       "    }\n",
       "\n",
       "    .dataframe tbody tr th {\n",
       "        vertical-align: top;\n",
       "    }\n",
       "\n",
       "    .dataframe thead th {\n",
       "        text-align: right;\n",
       "    }\n",
       "</style>\n",
       "<table border=\"1\" class=\"dataframe\">\n",
       "  <thead>\n",
       "    <tr style=\"text-align: right;\">\n",
       "      <th></th>\n",
       "      <th>CustomerID</th>\n",
       "      <th>Gender</th>\n",
       "      <th>Age</th>\n",
       "      <th>Annual Income (k$)</th>\n",
       "      <th>Spending Score (1-100)</th>\n",
       "    </tr>\n",
       "  </thead>\n",
       "  <tbody>\n",
       "    <tr>\n",
       "      <th>0</th>\n",
       "      <td>1</td>\n",
       "      <td>1</td>\n",
       "      <td>19</td>\n",
       "      <td>15</td>\n",
       "      <td>39</td>\n",
       "    </tr>\n",
       "    <tr>\n",
       "      <th>1</th>\n",
       "      <td>2</td>\n",
       "      <td>1</td>\n",
       "      <td>21</td>\n",
       "      <td>15</td>\n",
       "      <td>81</td>\n",
       "    </tr>\n",
       "    <tr>\n",
       "      <th>2</th>\n",
       "      <td>3</td>\n",
       "      <td>0</td>\n",
       "      <td>20</td>\n",
       "      <td>16</td>\n",
       "      <td>6</td>\n",
       "    </tr>\n",
       "    <tr>\n",
       "      <th>3</th>\n",
       "      <td>4</td>\n",
       "      <td>0</td>\n",
       "      <td>23</td>\n",
       "      <td>16</td>\n",
       "      <td>77</td>\n",
       "    </tr>\n",
       "    <tr>\n",
       "      <th>4</th>\n",
       "      <td>5</td>\n",
       "      <td>0</td>\n",
       "      <td>31</td>\n",
       "      <td>17</td>\n",
       "      <td>40</td>\n",
       "    </tr>\n",
       "  </tbody>\n",
       "</table>\n",
       "</div>"
      ],
      "text/plain": [
       "   CustomerID  Gender  Age  Annual Income (k$)  Spending Score (1-100)\n",
       "0           1       1   19                  15                      39\n",
       "1           2       1   21                  15                      81\n",
       "2           3       0   20                  16                       6\n",
       "3           4       0   23                  16                      77\n",
       "4           5       0   31                  17                      40"
      ]
     },
     "execution_count": 5,
     "metadata": {},
     "output_type": "execute_result"
    }
   ],
   "source": [
    "x = df.copy()\n",
    "\n",
    "x['Gender'] = x['Gender'].map({'Male':1 , 'Female':0})\n",
    "\n",
    "x.head()\n",
    "\n"
   ]
  },
  {
   "cell_type": "code",
   "execution_count": 6,
   "id": "4fc7ea62-f62d-47b3-90b5-0279123602dd",
   "metadata": {},
   "outputs": [],
   "source": [
    "x.drop('CustomerID' , axis = 1 , inplace = True)"
   ]
  },
  {
   "cell_type": "code",
   "execution_count": 11,
   "id": "10232e89-9b23-4f3c-95e7-4aebaf4f5132",
   "metadata": {},
   "outputs": [
    {
     "data": {
      "text/html": [
       "<div>\n",
       "<style scoped>\n",
       "    .dataframe tbody tr th:only-of-type {\n",
       "        vertical-align: middle;\n",
       "    }\n",
       "\n",
       "    .dataframe tbody tr th {\n",
       "        vertical-align: top;\n",
       "    }\n",
       "\n",
       "    .dataframe thead th {\n",
       "        text-align: right;\n",
       "    }\n",
       "</style>\n",
       "<table border=\"1\" class=\"dataframe\">\n",
       "  <thead>\n",
       "    <tr style=\"text-align: right;\">\n",
       "      <th></th>\n",
       "      <th>Annual Income (k$)</th>\n",
       "      <th>Spending Score (1-100)</th>\n",
       "    </tr>\n",
       "  </thead>\n",
       "  <tbody>\n",
       "    <tr>\n",
       "      <th>0</th>\n",
       "      <td>15</td>\n",
       "      <td>39</td>\n",
       "    </tr>\n",
       "    <tr>\n",
       "      <th>1</th>\n",
       "      <td>15</td>\n",
       "      <td>81</td>\n",
       "    </tr>\n",
       "    <tr>\n",
       "      <th>2</th>\n",
       "      <td>16</td>\n",
       "      <td>6</td>\n",
       "    </tr>\n",
       "    <tr>\n",
       "      <th>3</th>\n",
       "      <td>16</td>\n",
       "      <td>77</td>\n",
       "    </tr>\n",
       "    <tr>\n",
       "      <th>4</th>\n",
       "      <td>17</td>\n",
       "      <td>40</td>\n",
       "    </tr>\n",
       "    <tr>\n",
       "      <th>...</th>\n",
       "      <td>...</td>\n",
       "      <td>...</td>\n",
       "    </tr>\n",
       "    <tr>\n",
       "      <th>195</th>\n",
       "      <td>120</td>\n",
       "      <td>79</td>\n",
       "    </tr>\n",
       "    <tr>\n",
       "      <th>196</th>\n",
       "      <td>126</td>\n",
       "      <td>28</td>\n",
       "    </tr>\n",
       "    <tr>\n",
       "      <th>197</th>\n",
       "      <td>126</td>\n",
       "      <td>74</td>\n",
       "    </tr>\n",
       "    <tr>\n",
       "      <th>198</th>\n",
       "      <td>137</td>\n",
       "      <td>18</td>\n",
       "    </tr>\n",
       "    <tr>\n",
       "      <th>199</th>\n",
       "      <td>137</td>\n",
       "      <td>83</td>\n",
       "    </tr>\n",
       "  </tbody>\n",
       "</table>\n",
       "<p>200 rows × 2 columns</p>\n",
       "</div>"
      ],
      "text/plain": [
       "     Annual Income (k$)  Spending Score (1-100)\n",
       "0                    15                      39\n",
       "1                    15                      81\n",
       "2                    16                       6\n",
       "3                    16                      77\n",
       "4                    17                      40\n",
       "..                  ...                     ...\n",
       "195                 120                      79\n",
       "196                 126                      28\n",
       "197                 126                      74\n",
       "198                 137                      18\n",
       "199                 137                      83\n",
       "\n",
       "[200 rows x 2 columns]"
      ]
     },
     "execution_count": 11,
     "metadata": {},
     "output_type": "execute_result"
    }
   ],
   "source": [
    "X = x[['Annual Income (k$)' , 'Spending Score (1-100)']]\n",
    "\n",
    "X"
   ]
  },
  {
   "cell_type": "code",
   "execution_count": 13,
   "id": "ddb0441d-30c4-4cc7-b077-ded3e7d8d67c",
   "metadata": {},
   "outputs": [
    {
     "data": {
      "text/plain": [
       "<matplotlib.collections.PathCollection at 0x7faac7634460>"
      ]
     },
     "execution_count": 13,
     "metadata": {},
     "output_type": "execute_result"
    },
    {
     "data": {
      "image/png": "[encoded data removed]",
      "text/plain": [
       "<Figure size 640x480 with 1 Axes>"
      ]
     },
     "metadata": {},
     "output_type": "display_data"
    }
   ],
   "source": [
    "plt.scatter(X['Annual Income (k$)'] , X['Spending Score (1-100)'])"
   ]
  },
  {
   "cell_type": "code",
   "execution_count": 14,
   "id": "58865d14-4890-49d4-9b0a-c7617616d52a",
   "metadata": {},
   "outputs": [],
   "source": [
    "X_scaled = scaler.fit_transform(X)"
   ]
  },
  {
   "cell_type": "code",
   "execution_count": 53,
   "id": "1feeb645-26da-42d2-9105-41ecc6385e43",
   "metadata": {},
   "outputs": [
    {
     "data": {
      "text/plain": [
       "array([ 0,  1,  2,  1,  0,  1,  2,  3,  2,  1,  2,  3,  2,  1,  2,  1,  0,\n",
       "        1,  0,  3,  0,  1,  2,  1,  4,  1,  0, -1,  0,  1,  2,  1,  2,  1,\n",
       "        4,  1,  4,  1,  5,  1,  5,  1,  5,  5,  5,  5,  5,  5,  5,  5,  5,\n",
       "        5,  5,  5,  5,  5,  5,  5,  5,  5,  5,  5,  5,  5,  5,  5,  5,  5,\n",
       "        5,  5,  5,  5,  5,  5,  5,  5,  5,  5,  5,  5,  5,  5,  5,  5,  5,\n",
       "        5,  5,  5,  5,  5,  5,  5,  5,  5,  5,  5,  5,  5,  5,  5,  5,  5,\n",
       "        5,  5,  5,  5,  5,  5,  5,  5,  5,  5,  5,  5,  5,  5,  5,  5,  5,\n",
       "        5,  5,  5,  5,  6,  5,  6,  5,  6,  7,  6,  7,  6,  5,  6,  7,  6,\n",
       "        7,  6,  7,  6,  7,  6,  5,  6,  7,  6,  5,  6,  7,  6,  7,  6,  7,\n",
       "        6,  7,  6,  7,  6,  7,  6,  5,  6,  7,  6,  8,  6,  8,  6,  8,  6,\n",
       "        8,  6,  8,  6,  8,  6,  8,  6,  8,  6,  9,  6,  8,  6,  9, -1,  8,\n",
       "       10,  8,  6,  8, 10, -1, -1, -1, -1, -1, -1, -1, -1])"
      ]
     },
     "execution_count": 53,
     "metadata": {},
     "output_type": "execute_result"
    }
   ],
   "source": [
    "dbscan = DBSCAN(eps = 0.3 , min_samples=2)\n",
    "\n",
    "dbscan.fit(X_scaled)\n",
    "\n",
    "dbscan.labels_"
   ]
  },
  {
   "cell_type": "code",
   "execution_count": 54,
   "id": "c0e22146-2541-4c8f-b56a-9673fe7a8345",
   "metadata": {},
   "outputs": [
    {
     "data": {
      "text/plain": [
       "<matplotlib.collections.PathCollection at 0x7faabeeb6590>"
      ]
     },
     "execution_count": 54,
     "metadata": {},
     "output_type": "execute_result"
    },
    {
     "data": {
      "image/png": "[encoded data removed]",
      "text/plain": [
       "<Figure size 640x480 with 1 Axes>"
      ]
     },
     "metadata": {},
     "output_type": "display_data"
    }
   ],
   "source": [
    "plt.scatter(X['Annual Income (k$)'] , X['Spending Score (1-100)'] , c = dbscan.labels_)"
   ]
  },
  {
   "cell_type": "code",
   "execution_count": 55,
   "id": "66d9bc2f-0e5d-4a69-b311-6b2f7d6c46db",
   "metadata": {},
   "outputs": [
    {
     "name": "stdout",
     "output_type": "stream",
     "text": [
      "0.374793348539216\n"
     ]
    }
   ],
   "source": [
    "from sklearn.metrics import silhouette_score\n",
    "\n",
    "print(silhouette_score(X , dbscan.labels_))"
   ]
  },
  {
   "cell_type": "code",
   "execution_count": 26,
   "id": "988faa2f-435e-43cf-9e11-c9622446c824",
   "metadata": {},
   "outputs": [],
   "source": [
    "def silhouette_scorer(estimator, X):\n",
    "    labels = estimator.labels_\n",
    "    if len(set(labels)) == 1:\n",
    "        return 0\n",
    "    else:\n",
    "        return silhouette_score(X, labels)\n",
    "\n",
    "\n",
    "\n",
    "\n",
    "from sklearn.model_selection import GridSearchCV\n",
    "\n",
    "parameters = {'eps':[0.2,0.3,0.5,1,2,3,4,5],\n",
    "             'min_samples':[2,3,4,5,6,7,8,9]}\n",
    "\n",
    "grid = GridSearchCV(DBSCAN() , param_grid= parameters , scoring = silhouette_scorer )"
   ]
  },
  {
   "cell_type": "code",
   "execution_count": 27,
   "id": "e3dce23b-d7c5-4571-8843-673bcf0b9399",
   "metadata": {},
   "outputs": [
    {
     "data": {
      "text/html": [
       "<style>#sk-container-id-1 {color: black;background-color: white;}#sk-container-id-1 pre{padding: 0;}#sk-container-id-1 div.sk-toggleable {background-color: white;}#sk-container-id-1 label.sk-toggleable__label {cursor: pointer;display: block;width: 100%;margin-bottom: 0;padding: 0.3em;box-sizing: border-box;text-align: center;}#sk-container-id-1 label.sk-toggleable__label-arrow:before {content: \"▸\";float: left;margin-right: 0.25em;color: #696969;}#sk-container-id-1 label.sk-toggleable__label-arrow:hover:before {color: black;}#sk-container-id-1 div.sk-estimator:hover label.sk-toggleable__label-arrow:before {color: black;}#sk-container-id-1 div.sk-toggleable__content {max-height: 0;max-width: 0;overflow: hidden;text-align: left;background-color: #f0f8ff;}#sk-container-id-1 div.sk-toggleable__content pre {margin: 0.2em;color: black;border-radius: 0.25em;background-color: #f0f8ff;}#sk-container-id-1 input.sk-toggleable__control:checked~div.sk-toggleable__content {max-height: 200px;max-width: 100%;overflow: auto;}#sk-container-id-1 input.sk-toggleable__control:checked~label.sk-toggleable__label-arrow:before {content: \"▾\";}#sk-container-id-1 div.sk-estimator input.sk-toggleable__control:checked~label.sk-toggleable__label {background-color: #d4ebff;}#sk-container-id-1 div.sk-label input.sk-toggleable__control:checked~label.sk-toggleable__label {background-color: #d4ebff;}#sk-container-id-1 input.sk-hidden--visually {border: 0;clip: rect(1px 1px 1px 1px);clip: rect(1px, 1px, 1px, 1px);height: 1px;margin: -1px;overflow: hidden;padding: 0;position: absolute;width: 1px;}#sk-container-id-1 div.sk-estimator {font-family: monospace;background-color: #f0f8ff;border: 1px dotted black;border-radius: 0.25em;box-sizing: border-box;margin-bottom: 0.5em;}#sk-container-id-1 div.sk-estimator:hover {background-color: #d4ebff;}#sk-container-id-1 div.sk-parallel-item::after {content: \"\";width: 100%;border-bottom: 1px solid gray;flex-grow: 1;}#sk-container-id-1 div.sk-label:hover label.sk-toggleable__label {background-color: #d4ebff;}#sk-container-id-1 div.sk-serial::before {content: \"\";position: absolute;border-left: 1px solid gray;box-sizing: border-box;top: 0;bottom: 0;left: 50%;z-index: 0;}#sk-container-id-1 div.sk-serial {display: flex;flex-direction: column;align-items: center;background-color: white;padding-right: 0.2em;padding-left: 0.2em;position: relative;}#sk-container-id-1 div.sk-item {position: relative;z-index: 1;}#sk-container-id-1 div.sk-parallel {display: flex;align-items: stretch;justify-content: center;background-color: white;position: relative;}#sk-container-id-1 div.sk-item::before, #sk-container-id-1 div.sk-parallel-item::before {content: \"\";position: absolute;border-left: 1px solid gray;box-sizing: border-box;top: 0;bottom: 0;left: 50%;z-index: -1;}#sk-container-id-1 div.sk-parallel-item {display: flex;flex-direction: column;z-index: 1;position: relative;background-color: white;}#sk-container-id-1 div.sk-parallel-item:first-child::after {align-self: flex-end;width: 50%;}#sk-container-id-1 div.sk-parallel-item:last-child::after {align-self: flex-start;width: 50%;}#sk-container-id-1 div.sk-parallel-item:only-child::after {width: 0;}#sk-container-id-1 div.sk-dashed-wrapped {border: 1px dashed gray;margin: 0 0.4em 0.5em 0.4em;box-sizing: border-box;padding-bottom: 0.4em;background-color: white;}#sk-container-id-1 div.sk-label label {font-family: monospace;font-weight: bold;display: inline-block;line-height: 1.2em;}#sk-container-id-1 div.sk-label-container {text-align: center;}#sk-container-id-1 div.sk-container {/* jupyter's `normalize.less` sets `[hidden] { display: none; }` but bootstrap.min.css set `[hidden] { display: none !important; }` so we also need the `!important` here to be able to override the default hidden behavior on the sphinx rendered scikit-learn.org. See: https://github.com/scikit-learn/scikit-learn/issues/21755 */display: inline-block !important;position: relative;}#sk-container-id-1 div.sk-text-repr-fallback {display: none;}</style><div id=\"sk-container-id-1\" class=\"sk-top-container\"><div class=\"sk-text-repr-fallback\"><pre>GridSearchCV(estimator=DBSCAN(),\n",
       "             param_grid={&#x27;eps&#x27;: [0.2, 0.3, 0.5, 1, 2, 3, 4, 5],\n",
       "                         &#x27;min_samples&#x27;: [2, 3, 4, 5, 6, 7, 8, 9]},\n",
       "             scoring=&lt;function silhouette_scorer at 0x7faabf1a20e0&gt;)</pre><b>In a Jupyter environment, please rerun this cell to show the HTML representation or trust the notebook. <br />On GitHub, the HTML representation is unable to render, please try loading this page with nbviewer.org.</b></div><div class=\"sk-container\" hidden><div class=\"sk-item sk-dashed-wrapped\"><div class=\"sk-label-container\"><div class=\"sk-label sk-toggleable\"><input class=\"sk-toggleable__control sk-hidden--visually\" id=\"sk-estimator-id-1\" type=\"checkbox\" ><label for=\"sk-estimator-id-1\" class=\"sk-toggleable__label sk-toggleable__label-arrow\">GridSearchCV</label><div class=\"sk-toggleable__content\"><pre>GridSearchCV(estimator=DBSCAN(),\n",
       "             param_grid={&#x27;eps&#x27;: [0.2, 0.3, 0.5, 1, 2, 3, 4, 5],\n",
       "                         &#x27;min_samples&#x27;: [2, 3, 4, 5, 6, 7, 8, 9]},\n",
       "             scoring=&lt;function silhouette_scorer at 0x7faabf1a20e0&gt;)</pre></div></div></div><div class=\"sk-parallel\"><div class=\"sk-parallel-item\"><div class=\"sk-item\"><div class=\"sk-label-container\"><div class=\"sk-label sk-toggleable\"><input class=\"sk-toggleable__control sk-hidden--visually\" id=\"sk-estimator-id-2\" type=\"checkbox\" ><label for=\"sk-estimator-id-2\" class=\"sk-toggleable__label sk-toggleable__label-arrow\">estimator: DBSCAN</label><div class=\"sk-toggleable__content\"><pre>DBSCAN()</pre></div></div></div><div class=\"sk-serial\"><div class=\"sk-item\"><div class=\"sk-estimator sk-toggleable\"><input class=\"sk-toggleable__control sk-hidden--visually\" id=\"sk-estimator-id-3\" type=\"checkbox\" ><label for=\"sk-estimator-id-3\" class=\"sk-toggleable__label sk-toggleable__label-arrow\">DBSCAN</label><div class=\"sk-toggleable__content\"><pre>DBSCAN()</pre></div></div></div></div></div></div></div></div></div></div>"
      ],
      "text/plain": [
       "GridSearchCV(estimator=DBSCAN(),\n",
       "             param_grid={'eps': [0.2, 0.3, 0.5, 1, 2, 3, 4, 5],\n",
       "                         'min_samples': [2, 3, 4, 5, 6, 7, 8, 9]},\n",
       "             scoring=<function silhouette_scorer at 0x7faabf1a20e0>)"
      ]
     },
     "execution_count": 27,
     "metadata": {},
     "output_type": "execute_result"
    }
   ],
   "source": [
    "grid.fit(X_scaled)"
   ]
  },
  {
   "cell_type": "code",
   "execution_count": 28,
   "id": "2653d724-4a0e-420e-a0cc-6cabb05f4dd1",
   "metadata": {},
   "outputs": [
    {
     "data": {
      "text/plain": [
       "{'eps': 2, 'min_samples': 2}"
      ]
     },
     "execution_count": 28,
     "metadata": {},
     "output_type": "execute_result"
    }
   ],
   "source": [
    "grid.best_params_"
   ]
  },
  {
   "cell_type": "code",
   "execution_count": null,
   "id": "064645f2-7a06-4145-884e-f0fb0784a9fe",
   "metadata": {},
   "outputs": [],
   "source": []
  }
 ],
 "metadata": {
  "kernelspec": {
   "display_name": "Python 3 (ipykernel)",
   "language": "python",
   "name": "python3"
  },
  "language_info": {
   "codemirror_mode": {
    "name": "ipython",
    "version": 3
   },
   "file_extension": ".py",
   "mimetype": "text/x-python",
   "name": "python",
   "nbconvert_exporter": "python",
   "pygments_lexer": "ipython3",
   "version": "3.10.8"
  }
 },
 "nbformat": 4,
 "nbformat_minor": 5
}
